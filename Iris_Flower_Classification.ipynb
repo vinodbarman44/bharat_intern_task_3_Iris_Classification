{
  "nbformat": 4,
  "nbformat_minor": 0,
  "metadata": {
    "colab": {
      "provenance": []
    },
    "kernelspec": {
      "name": "python3",
      "display_name": "Python 3"
    },
    "language_info": {
      "name": "python"
    }
  },
  "cells": [
    {
      "cell_type": "code",
      "execution_count": 104,
      "metadata": {
        "id": "AC9-6I_R2rU9"
      },
      "outputs": [],
      "source": [
        "import pandas as pd\n",
        "import numpy as np\n",
        "import seaborn as sns\n",
        "from sklearn import metrics\n",
        "from sklearn.model_selection import train_test_split\n",
        "from sklearn.ensemble import RandomForestClassifier"
      ]
    },
    {
      "cell_type": "code",
      "source": [
        "# df = pd.read_csv(\"Iris.csv\")\n",
        "# or\n",
        "df = pd.read_csv(\"Iris.csv")\n",
        "df.info()"
      ],
      "metadata": {
        "colab": {
          "base_uri": "https://localhost:8080/"
        },
        "id": "bryya09s7EKI",
        "outputId": "a107303b-dd87-4aed-a88d-1696ac69a217"
      },
      "execution_count": 105,
      "outputs": [
        {
          "output_type": "stream",
          "name": "stdout",
          "text": [
            "<class 'pandas.core.frame.DataFrame'>\n",
            "RangeIndex: 150 entries, 0 to 149\n",
            "Data columns (total 6 columns):\n",
            " #   Column         Non-Null Count  Dtype  \n",
            "---  ------         --------------  -----  \n",
            " 0   Id             150 non-null    int64  \n",
            " 1   SepalLengthCm  150 non-null    float64\n",
            " 2   SepalWidthCm   150 non-null    float64\n",
            " 3   PetalLengthCm  150 non-null    float64\n",
            " 4   PetalWidthCm   150 non-null    float64\n",
            " 5   Species        150 non-null    object \n",
            "dtypes: float64(4), int64(1), object(1)\n",
            "memory usage: 7.2+ KB\n"
          ]
        }
      ]
    },
    {
      "cell_type": "code",
      "source": [
        "df = df.iloc[:,1:] #removing the Id column as it is of no use\n",
        "# or\n",
        "# df = df.drop([\"Id\"], axis=1)\n",
        "df"
      ],
      "metadata": {
        "colab": {
          "base_uri": "https://localhost:8080/",
          "height": 423
        },
        "id": "F8BXz4lglWRQ",
        "outputId": "6c9e97b2-5c2f-47ab-8a8d-738ab61cf2a8"
      },
      "execution_count": 106,
      "outputs": [
        {
          "output_type": "execute_result",
          "data": {
            "text/plain": [
              "     SepalLengthCm  SepalWidthCm  PetalLengthCm  PetalWidthCm         Species\n",
              "0              5.1           3.5            1.4           0.2     Iris-setosa\n",
              "1              4.9           3.0            1.4           0.2     Iris-setosa\n",
              "2              4.7           3.2            1.3           0.2     Iris-setosa\n",
              "3              4.6           3.1            1.5           0.2     Iris-setosa\n",
              "4              5.0           3.6            1.4           0.2     Iris-setosa\n",
              "..             ...           ...            ...           ...             ...\n",
              "145            6.7           3.0            5.2           2.3  Iris-virginica\n",
              "146            6.3           2.5            5.0           1.9  Iris-virginica\n",
              "147            6.5           3.0            5.2           2.0  Iris-virginica\n",
              "148            6.2           3.4            5.4           2.3  Iris-virginica\n",
              "149            5.9           3.0            5.1           1.8  Iris-virginica\n",
              "\n",
              "[150 rows x 5 columns]"
            ],
            "text/html": [
              "\n",
              "\n",
              "  <div id=\"df-8b38de68-c00f-4636-95a6-7e4840534385\">\n",
              "    <div class=\"colab-df-container\">\n",
              "      <div>\n",
              "<style scoped>\n",
              "    .dataframe tbody tr th:only-of-type {\n",
              "        vertical-align: middle;\n",
              "    }\n",
              "\n",
              "    .dataframe tbody tr th {\n",
              "        vertical-align: top;\n",
              "    }\n",
              "\n",
              "    .dataframe thead th {\n",
              "        text-align: right;\n",
              "    }\n",
              "</style>\n",
              "<table border=\"1\" class=\"dataframe\">\n",
              "  <thead>\n",
              "    <tr style=\"text-align: right;\">\n",
              "      <th></th>\n",
              "      <th>SepalLengthCm</th>\n",
              "      <th>SepalWidthCm</th>\n",
              "      <th>PetalLengthCm</th>\n",
              "      <th>PetalWidthCm</th>\n",
              "      <th>Species</th>\n",
              "    </tr>\n",
              "  </thead>\n",
              "  <tbody>\n",
              "    <tr>\n",
              "      <th>0</th>\n",
              "      <td>5.1</td>\n",
              "      <td>3.5</td>\n",
              "      <td>1.4</td>\n",
              "      <td>0.2</td>\n",
              "      <td>Iris-setosa</td>\n",
              "    </tr>\n",
              "    <tr>\n",
              "      <th>1</th>\n",
              "      <td>4.9</td>\n",
              "      <td>3.0</td>\n",
              "      <td>1.4</td>\n",
              "      <td>0.2</td>\n",
              "      <td>Iris-setosa</td>\n",
              "    </tr>\n",
              "    <tr>\n",
              "      <th>2</th>\n",
              "      <td>4.7</td>\n",
              "      <td>3.2</td>\n",
              "      <td>1.3</td>\n",
              "      <td>0.2</td>\n",
              "      <td>Iris-setosa</td>\n",
              "    </tr>\n",
              "    <tr>\n",
              "      <th>3</th>\n",
              "      <td>4.6</td>\n",
              "      <td>3.1</td>\n",
              "      <td>1.5</td>\n",
              "      <td>0.2</td>\n",
              "      <td>Iris-setosa</td>\n",
              "    </tr>\n",
              "    <tr>\n",
              "      <th>4</th>\n",
              "      <td>5.0</td>\n",
              "      <td>3.6</td>\n",
              "      <td>1.4</td>\n",
              "      <td>0.2</td>\n",
              "      <td>Iris-setosa</td>\n",
              "    </tr>\n",
              "    <tr>\n",
              "      <th>...</th>\n",
              "      <td>...</td>\n",
              "      <td>...</td>\n",
              "      <td>...</td>\n",
              "      <td>...</td>\n",
              "      <td>...</td>\n",
              "    </tr>\n",
              "    <tr>\n",
              "      <th>145</th>\n",
              "      <td>6.7</td>\n",
              "      <td>3.0</td>\n",
              "      <td>5.2</td>\n",
              "      <td>2.3</td>\n",
              "      <td>Iris-virginica</td>\n",
              "    </tr>\n",
              "    <tr>\n",
              "      <th>146</th>\n",
              "      <td>6.3</td>\n",
              "      <td>2.5</td>\n",
              "      <td>5.0</td>\n",
              "      <td>1.9</td>\n",
              "      <td>Iris-virginica</td>\n",
              "    </tr>\n",
              "    <tr>\n",
              "      <th>147</th>\n",
              "      <td>6.5</td>\n",
              "      <td>3.0</td>\n",
              "      <td>5.2</td>\n",
              "      <td>2.0</td>\n",
              "      <td>Iris-virginica</td>\n",
              "    </tr>\n",
              "    <tr>\n",
              "      <th>148</th>\n",
              "      <td>6.2</td>\n",
              "      <td>3.4</td>\n",
              "      <td>5.4</td>\n",
              "      <td>2.3</td>\n",
              "      <td>Iris-virginica</td>\n",
              "    </tr>\n",
              "    <tr>\n",
              "      <th>149</th>\n",
              "      <td>5.9</td>\n",
              "      <td>3.0</td>\n",
              "      <td>5.1</td>\n",
              "      <td>1.8</td>\n",
              "      <td>Iris-virginica</td>\n",
              "    </tr>\n",
              "  </tbody>\n",
              "</table>\n",
              "<p>150 rows × 5 columns</p>\n",
              "</div>\n",
              "      <button class=\"colab-df-convert\" onclick=\"convertToInteractive('df-8b38de68-c00f-4636-95a6-7e4840534385')\"\n",
              "              title=\"Convert this dataframe to an interactive table.\"\n",
              "              style=\"display:none;\">\n",
              "\n",
              "  <svg xmlns=\"http://www.w3.org/2000/svg\" height=\"24px\"viewBox=\"0 0 24 24\"\n",
              "       width=\"24px\">\n",
              "    <path d=\"M0 0h24v24H0V0z\" fill=\"none\"/>\n",
              "    <path d=\"M18.56 5.44l.94 2.06.94-2.06 2.06-.94-2.06-.94-.94-2.06-.94 2.06-2.06.94zm-11 1L8.5 8.5l.94-2.06 2.06-.94-2.06-.94L8.5 2.5l-.94 2.06-2.06.94zm10 10l.94 2.06.94-2.06 2.06-.94-2.06-.94-.94-2.06-.94 2.06-2.06.94z\"/><path d=\"M17.41 7.96l-1.37-1.37c-.4-.4-.92-.59-1.43-.59-.52 0-1.04.2-1.43.59L10.3 9.45l-7.72 7.72c-.78.78-.78 2.05 0 2.83L4 21.41c.39.39.9.59 1.41.59.51 0 1.02-.2 1.41-.59l7.78-7.78 2.81-2.81c.8-.78.8-2.07 0-2.86zM5.41 20L4 18.59l7.72-7.72 1.47 1.35L5.41 20z\"/>\n",
              "  </svg>\n",
              "      </button>\n",
              "\n",
              "\n",
              "\n",
              "    <div id=\"df-98accfa6-dd6b-4be9-952d-a64028137fc2\">\n",
              "      <button class=\"colab-df-quickchart\" onclick=\"quickchart('df-98accfa6-dd6b-4be9-952d-a64028137fc2')\"\n",
              "              title=\"Suggest charts.\"\n",
              "              style=\"display:none;\">\n",
              "\n",
              "<svg xmlns=\"http://www.w3.org/2000/svg\" height=\"24px\"viewBox=\"0 0 24 24\"\n",
              "     width=\"24px\">\n",
              "    <g>\n",
              "        <path d=\"M19 3H5c-1.1 0-2 .9-2 2v14c0 1.1.9 2 2 2h14c1.1 0 2-.9 2-2V5c0-1.1-.9-2-2-2zM9 17H7v-7h2v7zm4 0h-2V7h2v10zm4 0h-2v-4h2v4z\"/>\n",
              "    </g>\n",
              "</svg>\n",
              "      </button>\n",
              "    </div>\n",
              "\n",
              "<style>\n",
              "  .colab-df-quickchart {\n",
              "    background-color: #E8F0FE;\n",
              "    border: none;\n",
              "    border-radius: 50%;\n",
              "    cursor: pointer;\n",
              "    display: none;\n",
              "    fill: #1967D2;\n",
              "    height: 32px;\n",
              "    padding: 0 0 0 0;\n",
              "    width: 32px;\n",
              "  }\n",
              "\n",
              "  .colab-df-quickchart:hover {\n",
              "    background-color: #E2EBFA;\n",
              "    box-shadow: 0px 1px 2px rgba(60, 64, 67, 0.3), 0px 1px 3px 1px rgba(60, 64, 67, 0.15);\n",
              "    fill: #174EA6;\n",
              "  }\n",
              "\n",
              "  [theme=dark] .colab-df-quickchart {\n",
              "    background-color: #3B4455;\n",
              "    fill: #D2E3FC;\n",
              "  }\n",
              "\n",
              "  [theme=dark] .colab-df-quickchart:hover {\n",
              "    background-color: #434B5C;\n",
              "    box-shadow: 0px 1px 3px 1px rgba(0, 0, 0, 0.15);\n",
              "    filter: drop-shadow(0px 1px 2px rgba(0, 0, 0, 0.3));\n",
              "    fill: #FFFFFF;\n",
              "  }\n",
              "</style>\n",
              "\n",
              "    <script>\n",
              "      async function quickchart(key) {\n",
              "        const containerElement = document.querySelector('#' + key);\n",
              "        const charts = await google.colab.kernel.invokeFunction(\n",
              "            'suggestCharts', [key], {});\n",
              "      }\n",
              "    </script>\n",
              "\n",
              "      <script>\n",
              "\n",
              "function displayQuickchartButton(domScope) {\n",
              "  let quickchartButtonEl =\n",
              "    domScope.querySelector('#df-98accfa6-dd6b-4be9-952d-a64028137fc2 button.colab-df-quickchart');\n",
              "  quickchartButtonEl.style.display =\n",
              "    google.colab.kernel.accessAllowed ? 'block' : 'none';\n",
              "}\n",
              "\n",
              "        displayQuickchartButton(document);\n",
              "      </script>\n",
              "      <style>\n",
              "    .colab-df-container {\n",
              "      display:flex;\n",
              "      flex-wrap:wrap;\n",
              "      gap: 12px;\n",
              "    }\n",
              "\n",
              "    .colab-df-convert {\n",
              "      background-color: #E8F0FE;\n",
              "      border: none;\n",
              "      border-radius: 50%;\n",
              "      cursor: pointer;\n",
              "      display: none;\n",
              "      fill: #1967D2;\n",
              "      height: 32px;\n",
              "      padding: 0 0 0 0;\n",
              "      width: 32px;\n",
              "    }\n",
              "\n",
              "    .colab-df-convert:hover {\n",
              "      background-color: #E2EBFA;\n",
              "      box-shadow: 0px 1px 2px rgba(60, 64, 67, 0.3), 0px 1px 3px 1px rgba(60, 64, 67, 0.15);\n",
              "      fill: #174EA6;\n",
              "    }\n",
              "\n",
              "    [theme=dark] .colab-df-convert {\n",
              "      background-color: #3B4455;\n",
              "      fill: #D2E3FC;\n",
              "    }\n",
              "\n",
              "    [theme=dark] .colab-df-convert:hover {\n",
              "      background-color: #434B5C;\n",
              "      box-shadow: 0px 1px 3px 1px rgba(0, 0, 0, 0.15);\n",
              "      filter: drop-shadow(0px 1px 2px rgba(0, 0, 0, 0.3));\n",
              "      fill: #FFFFFF;\n",
              "    }\n",
              "  </style>\n",
              "\n",
              "      <script>\n",
              "        const buttonEl =\n",
              "          document.querySelector('#df-8b38de68-c00f-4636-95a6-7e4840534385 button.colab-df-convert');\n",
              "        buttonEl.style.display =\n",
              "          google.colab.kernel.accessAllowed ? 'block' : 'none';\n",
              "\n",
              "        async function convertToInteractive(key) {\n",
              "          const element = document.querySelector('#df-8b38de68-c00f-4636-95a6-7e4840534385');\n",
              "          const dataTable =\n",
              "            await google.colab.kernel.invokeFunction('convertToInteractive',\n",
              "                                                     [key], {});\n",
              "          if (!dataTable) return;\n",
              "\n",
              "          const docLinkHtml = 'Like what you see? Visit the ' +\n",
              "            '<a target=\"_blank\" href=https://colab.research.google.com/notebooks/data_table.ipynb>data table notebook</a>'\n",
              "            + ' to learn more about interactive tables.';\n",
              "          element.innerHTML = '';\n",
              "          dataTable['output_type'] = 'display_data';\n",
              "          await google.colab.output.renderOutput(dataTable, element);\n",
              "          const docLink = document.createElement('div');\n",
              "          docLink.innerHTML = docLinkHtml;\n",
              "          element.appendChild(docLink);\n",
              "        }\n",
              "      </script>\n",
              "    </div>\n",
              "  </div>\n"
            ]
          },
          "metadata": {},
          "execution_count": 106
        }
      ]
    },
    {
      "cell_type": "code",
      "source": [
        "print(df[\"Species\"].value_counts())"
      ],
      "metadata": {
        "colab": {
          "base_uri": "https://localhost:8080/"
        },
        "id": "yx-bMj2MGxK9",
        "outputId": "655aac08-c6f0-48dc-daf0-e718592feaba"
      },
      "execution_count": 107,
      "outputs": [
        {
          "output_type": "stream",
          "name": "stdout",
          "text": [
            "Iris-setosa        50\n",
            "Iris-versicolor    50\n",
            "Iris-virginica     50\n",
            "Name: Species, dtype: int64\n"
          ]
        }
      ]
    },
    {
      "cell_type": "code",
      "source": [
        "sns.FacetGrid(df, hue=\"Species\").map(plt.scatter, \"SepalLengthCm\", \"SepalWidthCm\").add_legend()"
      ],
      "metadata": {
        "colab": {
          "base_uri": "https://localhost:8080/",
          "height": 324
        },
        "id": "JMfB32-27n30",
        "outputId": "3c38be65-f229-49ff-9668-1df0dafcb655"
      },
      "execution_count": 108,
      "outputs": [
        {
          "output_type": "execute_result",
          "data": {
            "text/plain": [
              "<seaborn.axisgrid.FacetGrid at 0x7d06c3239780>"
            ]
          },
          "metadata": {},
          "execution_count": 108
        },
        {
          "output_type": "display_data",
          "data": {
            "text/plain": [
              "<Figure size 443x300 with 1 Axes>"
            ],
            "image/png": "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\n"
          },
          "metadata": {}
        }
      ]
    },
    {
      "cell_type": "code",
      "source": [
        "sns.FacetGrid(df, hue=\"Species\").map(plt.scatter, \"PetalLengthCm\", \"PetalWidthCm\").add_legend()"
      ],
      "metadata": {
        "colab": {
          "base_uri": "https://localhost:8080/",
          "height": 324
        },
        "id": "a3dqLlNN9Rca",
        "outputId": "ce0f755a-caea-4846-877e-98f27bb9c292"
      },
      "execution_count": 109,
      "outputs": [
        {
          "output_type": "execute_result",
          "data": {
            "text/plain": [
              "<seaborn.axisgrid.FacetGrid at 0x7d06c3239690>"
            ]
          },
          "metadata": {},
          "execution_count": 109
        },
        {
          "output_type": "display_data",
          "data": {
            "text/plain": [
              "<Figure size 443x300 with 1 Axes>"
            ],
            "image/png": "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\n"
          },
          "metadata": {}
        }
      ]
    },
    {
      "cell_type": "code",
      "source": [
        "x_train, x_test, y_train, y_test = train_test_split(df.drop(\"Species\",axis=1),df[\"Species\"], test_size=0.25)\n",
        "x_train.shape, x_test.shape, y_train.shape, y_test.shape\n"
      ],
      "metadata": {
        "colab": {
          "base_uri": "https://localhost:8080/"
        },
        "id": "FRrHlxGC-nrV",
        "outputId": "f0006d1f-ad22-469f-f4de-b9959863fdba"
      },
      "execution_count": 110,
      "outputs": [
        {
          "output_type": "execute_result",
          "data": {
            "text/plain": [
              "((112, 4), (38, 4), (112,), (38,))"
            ]
          },
          "metadata": {},
          "execution_count": 110
        }
      ]
    },
    {
      "cell_type": "code",
      "source": [
        "model = RandomForestClassifier(criterion='gini', n_estimators=1, max_depth=10)\n",
        "model.fit(x_train, y_train)\n",
        "model.score(x_train, y_train)"
      ],
      "metadata": {
        "colab": {
          "base_uri": "https://localhost:8080/"
        },
        "id": "6XeOgVt7BMlG",
        "outputId": "8d12ec40-afa6-4fd2-94b4-a566a87e70a3"
      },
      "execution_count": 111,
      "outputs": [
        {
          "output_type": "execute_result",
          "data": {
            "text/plain": [
              "0.9910714285714286"
            ]
          },
          "metadata": {},
          "execution_count": 111
        }
      ]
    },
    {
      "cell_type": "code",
      "source": [
        "prediction = model.predict(x_test)\n",
        "expected = y_test\n",
        "print(metrics.classification_report(expected, prediction))\n",
        "print(metrics.confusion_matrix(expected, prediction))"
      ],
      "metadata": {
        "colab": {
          "base_uri": "https://localhost:8080/"
        },
        "id": "RQ0x5dciBrdT",
        "outputId": "2c84b73b-1fd9-4d8c-a4a5-2b585f4a67f3"
      },
      "execution_count": 112,
      "outputs": [
        {
          "output_type": "stream",
          "name": "stdout",
          "text": [
            "                 precision    recall  f1-score   support\n",
            "\n",
            "    Iris-setosa       1.00      1.00      1.00        13\n",
            "Iris-versicolor       0.83      0.91      0.87        11\n",
            " Iris-virginica       0.92      0.86      0.89        14\n",
            "\n",
            "       accuracy                           0.92        38\n",
            "      macro avg       0.92      0.92      0.92        38\n",
            "   weighted avg       0.92      0.92      0.92        38\n",
            "\n",
            "[[13  0  0]\n",
            " [ 0 10  1]\n",
            " [ 0  2 12]]\n"
          ]
        }
      ]
    }
  ]
}
